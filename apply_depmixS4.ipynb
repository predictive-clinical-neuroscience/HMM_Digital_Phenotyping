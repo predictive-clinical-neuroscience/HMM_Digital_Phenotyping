{
 "cells": [
  {
   "cell_type": "code",
   "execution_count": null,
   "id": "acb753e4",
   "metadata": {},
   "outputs": [],
   "source": [
    "%load_ext rpy2.ipython\n",
    "from datetime import datetime, timedelta\n",
    "import pandas as pd\n",
    "from rpy2.robjects import r, pandas2ri\n",
    "import numpy as np\n",
    "\n",
    "pandas2ri.activate()"
   ]
  },
  {
   "cell_type": "code",
   "execution_count": null,
   "id": "984ef857",
   "metadata": {},
   "outputs": [],
   "source": [
    "%%R\n",
    "library(\"depmixS4\")"
   ]
  },
  {
   "cell_type": "markdown",
   "id": "a1dc675b",
   "metadata": {},
   "source": [
    "### Import dataset"
   ]
  },
  {
   "cell_type": "code",
   "execution_count": null,
   "id": "524674b2",
   "metadata": {},
   "outputs": [],
   "source": [
    "df = pd.read_csv('/directory/file_name.csv')"
   ]
  },
  {
   "cell_type": "markdown",
   "id": "9fab950c",
   "metadata": {},
   "source": [
    "#### Bin the channels - categories from 1"
   ]
  },
  {
   "cell_type": "code",
   "execution_count": null,
   "id": "8c318249",
   "metadata": {},
   "outputs": [],
   "source": [
    "df['Outgoing call'] = df['Outgoing call'].apply(lambda x: 2 if x>0 else 1)\n",
    "df['Incoming call'] = df['Incoming call'].apply(lambda x: 2 if x>0 else 1)\n",
    "df['Social media App'] = df['Social media App'].apply(lambda x: 2 if x>0 else 1)\n",
    "df['Communication App'] = df['Communication App'].apply(lambda x: 2 if x>0 else 1)\n",
    "df['Phone Usage'] = df['Phone Usage'].apply(lambda x: 2 if x>0 else 1)"
   ]
  },
  {
   "cell_type": "markdown",
   "id": "9fddcc39",
   "metadata": {},
   "source": [
    "#### Missing data"
   ]
  },
  {
   "cell_type": "code",
   "execution_count": null,
   "id": "98667fc8",
   "metadata": {},
   "outputs": [],
   "source": [
    "#  If has_data is 0, set all other columns to NaN\n",
    "df.loc[df['has_data'] == 0, 'Outgoing call'] = np.nan\n",
    "df.loc[df['has_data'] == 0, 'Incoming call'] = np.nan\n",
    "df.loc[df['has_data'] == 0, 'Social media App'] = np.nan\n",
    "df.loc[df['has_data'] == 0, 'Communication App'] = np.nan\n",
    "df.loc[df['has_data'] == 0, 'Phone Usage'] = np.nan"
   ]
  },
  {
   "cell_type": "markdown",
   "id": "6f282b33",
   "metadata": {},
   "source": [
    "### Group model training"
   ]
  },
  {
   "cell_type": "code",
   "execution_count": null,
   "id": "98cbfdb4",
   "metadata": {},
   "outputs": [],
   "source": [
    "# For training/testing split:\n",
    "df_training = df[df['Testing1_Training0']==0]\n",
    "all_available_segments = df_training.drop_duplicates(subset=['ID'])\n",
    "training_segments = all_available_segments[all_available_segments['Testing1_Training0']==0]\n",
    "df_subset = df_training[['ID', 'Outgoing call', 'Incoming call', 'Social media App', 'Communication App', 'Phone Usage']]"
   ]
  },
  {
   "cell_type": "code",
   "execution_count": null,
   "id": "6aa3a8fb",
   "metadata": {
    "scrolled": true
   },
   "outputs": [],
   "source": [
    "# Get vector containing lengths of time series for each training participant\n",
    "IDs = list(df_subset['ID'].unique())\n",
    "sequence_length = []\n",
    "for ID in IDs:\n",
    "    length = len(df_subset[df_subset['ID']==ID])\n",
    "    sequence_length.append(length)"
   ]
  },
  {
   "cell_type": "code",
   "execution_count": null,
   "id": "d0ee449e",
   "metadata": {
    "scrolled": true
   },
   "outputs": [],
   "source": [
    "%%R -i df_subset,sequence_length\n",
    "# Train model\n",
    "seed_values <- c(10,21,39,42,58,63,77,84,96,150)\n",
    "\n",
    "for (seed_value in seed_values)\n",
    "    {\n",
    "    set.seed(seed_value)\n",
    "    start_time <- Sys.time()\n",
    "    colnames(df_subset) <- c('ID', 'Outgoing.call', 'Incoming.call', 'Social.media.App', 'Communication.App', 'Phone.Usage')\n",
    "    n_states <- 2\n",
    "    mod <- depmix(list(Outgoing.call ~ 1 \n",
    "                       , Incoming.call ~ 1\n",
    "                       , Social.media.App ~ 1\n",
    "                       , Communication.App ~ 1\n",
    "                       , Phone.Usage ~ 1\n",
    "                      ), data = df_subset, nstates = n_states,\n",
    "     family = list(multinomial(link=\"identity\")\n",
    "                   , multinomial(link=\"identity\"), multinomial(link=\"identity\")\n",
    "                   , multinomial(link=\"identity\"), multinomial(link=\"identity\")\n",
    "                  ),\n",
    "                  ntimes=as.vector(sequence_length)\n",
    "                 )\n",
    "\n",
    "    fm <- fit(mod)\n",
    "    end_time <- Sys.time()\n",
    "    print(end_time - start_time)\n",
    "\n",
    "    filename = paste('/directory/file_name_', as.character(n_states), 'states_seed-value', as.character(seed_value), '.rda', sep='')\n",
    "    saveRDS(fm, file =filename)  \n",
    "}\n"
   ]
  },
  {
   "cell_type": "markdown",
   "id": "a74f8346",
   "metadata": {},
   "source": [
    "### Quantifications"
   ]
  },
  {
   "cell_type": "code",
   "execution_count": null,
   "id": "480080b7",
   "metadata": {},
   "outputs": [],
   "source": [
    "%%R \n",
    "fm <- readRDS('/directory/file_name.rda')\n",
    "print(logLik(fm))\n",
    "print(summary(fm))"
   ]
  },
  {
   "cell_type": "markdown",
   "id": "828d512d",
   "metadata": {},
   "source": [
    "### Predict hidden state sequence for training segments (participants)"
   ]
  },
  {
   "cell_type": "code",
   "execution_count": null,
   "id": "9bf75695",
   "metadata": {},
   "outputs": [],
   "source": [
    "%%R\n",
    "pst_viterbi <- posterior(fm,type=\"viterbi\")\n",
    "group_state_sequence <- pst_viterbi['state']"
   ]
  },
  {
   "cell_type": "code",
   "execution_count": null,
   "id": "b4b4cc0e",
   "metadata": {},
   "outputs": [],
   "source": [
    "# Save hidden state sequence\n",
    "training_overall_state_sequence = r['group_state_sequence']\n",
    "df_training_overall_state_sequence = pd.DataFrame(columns=['State'])\n",
    "df_training_overall_state_sequence['State'] = list(training_overall_state_sequence)[0]\n",
    "df_training_overall_state_sequence.to_csv('/directory/file_name.csv', index=False)"
   ]
  },
  {
   "cell_type": "code",
   "execution_count": null,
   "id": "9028e73e",
   "metadata": {},
   "outputs": [],
   "source": [
    "# If loading hidden state sequence\n",
    "df_training_overall_state_sequence = pd.read_csv('/directory/file_name.csv')\n",
    "df_training_overall_state_sequence.rename(columns={\"State\": \"state\"}, inplace=True)"
   ]
  },
  {
   "cell_type": "code",
   "execution_count": null,
   "id": "253c817c",
   "metadata": {},
   "outputs": [],
   "source": [
    "%%R -i df_training_overall_state_sequence\n",
    "# If loading hidden state sequence\n",
    "group_state_sequence <- df_training_overall_state_sequence"
   ]
  },
  {
   "cell_type": "code",
   "execution_count": null,
   "id": "2e7e8a87",
   "metadata": {},
   "outputs": [],
   "source": [
    "# For training/testing split:\n",
    "df_training = df[(df['Testing1_Training0']==0)]"
   ]
  },
  {
   "cell_type": "code",
   "execution_count": null,
   "id": "8f028c57",
   "metadata": {},
   "outputs": [],
   "source": [
    "# Get vector containing lengths of time series for each participant\n",
    "IDs = list(df_training['ID'].unique())\n",
    "sequence_length_training = []\n",
    "for ID in IDs:\n",
    "    length = len(df_training[df_training['ID']==ID])\n",
    "    sequence_length_training.append(length)"
   ]
  },
  {
   "cell_type": "markdown",
   "id": "5d1fc275",
   "metadata": {},
   "source": [
    "#### Training segment (participant) dwell times"
   ]
  },
  {
   "cell_type": "code",
   "execution_count": null,
   "id": "efb86d0c",
   "metadata": {},
   "outputs": [],
   "source": [
    "%%R -i sequence_length_training\n",
    "all_training_segment_dwell_times <- list()\n",
    "start <- 1\n",
    "for (s in sequence_length_training)\n",
    "    {\n",
    "    end <- start + s - 1\n",
    "    segment_state_sequence <- group_state_sequence[start:end,1]    \n",
    "    dwell_time_state1 <- 100 * length(which(segment_state_sequence==1))/length(segment_state_sequence)\n",
    "    dwell_time_state2 <- 100 * length(which(segment_state_sequence==2))/length(segment_state_sequence)\n",
    "    segment_dwell_times <- list(dwell_time_state1,dwell_time_state2)\n",
    "    all_training_segment_dwell_times <- append(all_training_segment_dwell_times,segment_dwell_times) \n",
    "    start <- end + 1\n",
    "}"
   ]
  },
  {
   "cell_type": "code",
   "execution_count": null,
   "id": "69165132",
   "metadata": {},
   "outputs": [],
   "source": [
    "all_training_segment_dwell_times = r['all_training_segment_dwell_times']"
   ]
  },
  {
   "cell_type": "code",
   "execution_count": null,
   "id": "357cf130",
   "metadata": {},
   "outputs": [],
   "source": [
    "dwell_times_state1 = all_training_segment_dwell_times[0:len(all_training_segment_dwell_times):2]\n",
    "dwell_times_state2 = all_training_segment_dwell_times[1:len(all_training_segment_dwell_times):2]\n",
    "dwell_times_state1 = [dwell_times_state1[i][0] for i in range(len(dwell_times_state1))]\n",
    "dwell_times_state2 = [dwell_times_state2[i][0] for i in range(len(dwell_times_state2))]"
   ]
  },
  {
   "cell_type": "code",
   "execution_count": null,
   "id": "cecc9502",
   "metadata": {},
   "outputs": [],
   "source": [
    "df_dwell_times = pd.DataFrame(columns=['ID', 'SFS', 'LONELINESS', 'AGE', 'LABEL', 'DATASET', 'dwell_times_state1','dwell_times_state2', 'Testing1_Training0'])\n",
    "df_training_ID_unique = df_training.drop_duplicates(subset=['ID'])\n",
    "df_dwell_times['ID'] = df_training_ID_unique['ID']\n",
    "df_dwell_times['SFS'] = df_training_ID_unique['SFS']\n",
    "df_dwell_times['LONELINESS'] = df_training_ID_unique['LONELINESS']\n",
    "df_dwell_times['AGE'] = df_training_ID_unique['AGE']\n",
    "df_dwell_times['LABEL'] = df_training_ID_unique['LABEL']\n",
    "df_dwell_times['DATASET'] = df_training_ID_unique['DATASET']\n",
    "df_dwell_times['dwell_times_state1'] = dwell_times_state1\n",
    "df_dwell_times['dwell_times_state2'] = dwell_times_state2\n",
    "df_dwell_times['Testing1_Training0'] = 0\n",
    "df_dwell_times.to_csv('/directory/file_name.csv', index=False)"
   ]
  },
  {
   "cell_type": "markdown",
   "id": "8fd21edb",
   "metadata": {},
   "source": [
    "### Predict hidden state sequence for testing segments (participants)"
   ]
  },
  {
   "cell_type": "code",
   "execution_count": null,
   "id": "f9dde5d6",
   "metadata": {},
   "outputs": [],
   "source": [
    "df_testing = df[(df['Testing1_Training0']==1)]\n",
    "df_testing = df_testing.loc[df_testing['has_data']==1]"
   ]
  },
  {
   "cell_type": "code",
   "execution_count": null,
   "id": "d3595563",
   "metadata": {
    "scrolled": true
   },
   "outputs": [],
   "source": [
    "# Get vector containing lengths of time series for each participant\n",
    "df_testing = df_testing[['ID', 'Outgoing call', 'Incoming call', 'Social media App', 'Communication App', 'Phone Usage']]\n",
    "df_testing_dummy = pd.DataFrame({'ID': [0], 'Outgoing call': [np.nan], 'Incoming call': [np.nan], 'Social media App': [np.nan], 'Communication App': [np.nan], 'Phone Usage': [np.nan]}) \n",
    "df_testing = pd.concat([df_testing, df_testing_dummy], ignore_index = True)  # Have to add in a fake missing row or else get errors with emission probabilities in mod_testing \n",
    "sequence_length_testing = []\n",
    "for ID in list(df_testing['ID'].unique()):\n",
    "    length = len(df_testing[df_testing['ID']==ID])\n",
    "    sequence_length_testing.append(length)"
   ]
  },
  {
   "cell_type": "code",
   "execution_count": null,
   "id": "eeaefd0e",
   "metadata": {},
   "outputs": [],
   "source": [
    "%%R\n",
    "initial_probabilities <- getpars(fm)[1:2]\n",
    "transition_matrix <- getpars(fm)[3:6]\n",
    "emission_probabilities <- getpars(fm)[7:36]"
   ]
  },
  {
   "cell_type": "code",
   "execution_count": null,
   "id": "f294dc8b",
   "metadata": {
    "scrolled": false
   },
   "outputs": [],
   "source": [
    "%%R -i df_testing,sequence_length_testing\n",
    "colnames(df_testing) <- c('ID', 'Outgoing.call', 'Incoming.call', 'Social.media.App', 'Communication.App', 'Phone.Usage')\n",
    "n_states <- 2\n",
    "mod_testing <- depmix(list(Outgoing.call ~ 1\n",
    "                   , Incoming.call ~ 1\n",
    "                   , Social.media.App ~ 1\n",
    "                   , Communication.App ~ 1\n",
    "                   , Phone.Usage ~ 1\n",
    "                  ), data = df_testing, nstates = n_states,\n",
    " family = list(multinomial(link=\"identity\")\n",
    "               , multinomial(link=\"identity\"), multinomial(link=\"identity\")\n",
    "               , multinomial(link=\"identity\"), multinomial(link=\"identity\")\n",
    "              ),\n",
    "              ntimes=as.vector(sequence_length_testing),\n",
    "              respstart=emission_probabilities,\n",
    "              trstart=transition_matrix,\n",
    "              instart=initial_probabilities\n",
    "             )"
   ]
  },
  {
   "cell_type": "code",
   "execution_count": null,
   "id": "daa03526",
   "metadata": {
    "scrolled": true
   },
   "outputs": [],
   "source": [
    "%%R\n",
    "pst_viterbi <- posterior(mod_testing,type=\"viterbi\")\n",
    "testing_overall_state_sequence <- pst_viterbi['state']"
   ]
  },
  {
   "cell_type": "code",
   "execution_count": null,
   "id": "00287aa8",
   "metadata": {},
   "outputs": [],
   "source": [
    "# Save hidden state sequence\n",
    "testing_overall_state_sequence = r['testing_overall_state_sequence']\n",
    "testing_overall_state_sequence = testing_overall_state_sequence[:]\n",
    "df_testing_overall_state_sequence = pd.DataFrame(columns=['State'])\n",
    "df_testing_overall_state_sequence['State'] = list(testing_overall_state_sequence)[0][:-1]\n",
    "df_testing_overall_state_sequence.to_csv('/directory/file_name.csv', index=False)"
   ]
  },
  {
   "cell_type": "code",
   "execution_count": null,
   "id": "af5aba50",
   "metadata": {
    "scrolled": true
   },
   "outputs": [],
   "source": [
    "%%R -i sequence_length_testing\n",
    "all_testing_segment_dwell_times <- list()\n",
    "start <- 1\n",
    "for (s in sequence_length_testing)\n",
    "    {\n",
    "    end <- start + s - 1\n",
    "    testing_state_sequence <- testing_overall_state_sequence[start:end,1]    \n",
    "    dwell_time_state1 <- 100 * length(which(testing_state_sequence==1))/length(testing_state_sequence)\n",
    "    dwell_time_state2 <- 100 * length(which(testing_state_sequence==2))/length(testing_state_sequence)\n",
    "    segment_dwell_times <- list(dwell_time_state1,dwell_time_state2)\n",
    "    all_testing_segment_dwell_times <- append(all_testing_segment_dwell_times,segment_dwell_times) \n",
    "    start <- end + 1\n",
    "}"
   ]
  },
  {
   "cell_type": "code",
   "execution_count": null,
   "id": "460338c5",
   "metadata": {},
   "outputs": [],
   "source": [
    "all_testing_segment_dwell_times = r['all_testing_segment_dwell_times']  # last 2 elements are from the dummy missing row"
   ]
  },
  {
   "cell_type": "code",
   "execution_count": null,
   "id": "0b8408f9",
   "metadata": {},
   "outputs": [],
   "source": [
    "dwell_times_state1 = all_testing_segment_dwell_times[0:len(all_testing_segment_dwell_times):2]\n",
    "dwell_times_state2 = all_testing_segment_dwell_times[1:len(all_testing_segment_dwell_times):2]\n",
    "dwell_times_state1 = [dwell_times_state1[i][0] for i in range(len(dwell_times_state1)-1)]  # don't need the last row as this is the dummy row\n",
    "dwell_times_state2 = [dwell_times_state2[i][0] for i in range(len(dwell_times_state2)-1)]"
   ]
  },
  {
   "cell_type": "code",
   "execution_count": null,
   "id": "fc2c799a",
   "metadata": {},
   "outputs": [],
   "source": [
    "df_testing = df[(df['Testing1_Training0']==1)]"
   ]
  },
  {
   "cell_type": "code",
   "execution_count": null,
   "id": "755d3e72",
   "metadata": {},
   "outputs": [],
   "source": [
    "df_dwell_times = pd.DataFrame(columns=['ID', 'SFS', 'LONELINESS', 'LABEL', 'AGE', 'SEX', 'RACE',\n",
    "       'EDUCATION YEARS', 'COUNTRY', 'DATASET', 'dwell_times_state1', 'dwell_times_state2', 'Testing1_Training0'])\n",
    "df_testing_ID_unique = df_testing.drop_duplicates(subset=['ID'])\n",
    "df_dwell_times['ID'] = df_testing_ID_unique['ID']\n",
    "df_dwell_times['SFS'] = df_testing_ID_unique['SFS']\n",
    "df_dwell_times['LONELINESS'] = df_testing_ID_unique['LONELINESS']\n",
    "df_dwell_times['LABEL'] = df_testing_ID_unique['LABEL']\n",
    "df_dwell_times['AGE'] = df_testing_ID_unique['AGE']\n",
    "df_dwell_times['SEX'] = df_testing_ID_unique['SEX']\n",
    "df_dwell_times['RACE'] = df_testing_ID_unique['RACE']\n",
    "df_dwell_times['EDUCATION YEARS'] = df_testing_ID_unique['EDUCATION YEARS']\n",
    "df_dwell_times['COUNTRY'] = df_testing_ID_unique['COUNTRY']\n",
    "df_dwell_times['DATASET'] = df_testing_ID_unique['DATASET']\n",
    "df_dwell_times['dwell_times_state1'] = dwell_times_state1\n",
    "df_dwell_times['dwell_times_state2'] = dwell_times_state2\n",
    "df_dwell_times['Testing1_Training0'] = 1\n",
    "df_dwell_times.to_csv('/directory/file_name.csv', index=False)"
   ]
  }
 ],
 "metadata": {
  "kernelspec": {
   "display_name": "Python 3 (ipykernel)",
   "language": "python",
   "name": "python3"
  },
  "language_info": {
   "codemirror_mode": {
    "name": "ipython",
    "version": 3
   },
   "file_extension": ".py",
   "mimetype": "text/x-python",
   "name": "python",
   "nbconvert_exporter": "python",
   "pygments_lexer": "ipython3",
   "version": "3.8.13"
  }
 },
 "nbformat": 4,
 "nbformat_minor": 5
}
