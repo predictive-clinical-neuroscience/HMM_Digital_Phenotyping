{
 "cells": [
  {
   "cell_type": "code",
   "execution_count": 1,
   "id": "26f3daf8",
   "metadata": {},
   "outputs": [],
   "source": [
    "from matplotlib import pyplot as plt\n",
    "import numpy as np\n",
    "import pandas as pd\n",
    "import random"
   ]
  },
  {
   "cell_type": "code",
   "execution_count": 2,
   "id": "b16d4d7e",
   "metadata": {},
   "outputs": [],
   "source": [
    "df = pd.read_csv('/directory/file_name.csv')"
   ]
  },
  {
   "cell_type": "markdown",
   "id": "3bd19688",
   "metadata": {},
   "source": [
    "### Identify high quality HC time series"
   ]
  },
  {
   "cell_type": "code",
   "execution_count": 3,
   "id": "5a8df3f6",
   "metadata": {},
   "outputs": [],
   "source": [
    "df_HC = df[df['LABEL']=='Control']\n",
    "df_has_data_sum = df_HC.groupby('ID')['has_data'].agg(['sum','count'])\n",
    "df_has_data_sum['percentage_has_data_missing'] = 1 - df_has_data_sum['sum'] / df_has_data_sum['count']  # Calculate what % of overall data is missing for each participant\n",
    "\n",
    "df_has_gps_data_sum = df_HC.groupby('ID')['has_gps_data'].agg(['sum','count'])\n",
    "df_has_gps_data_sum['percentage_has_gps_data_missing'] = 1 - df_has_gps_data_sum['sum'] / df_has_gps_data_sum['count']  # Calculate what % of GPS data is missing for each participant\n",
    "\n",
    "df_percent_missing = pd.DataFrame(index=df_has_data_sum.index)\n",
    "df_percent_missing = pd.concat([df_percent_missing, df_has_data_sum['percentage_has_data_missing'], df_has_gps_data_sum['percentage_has_gps_data_missing']], axis=1)\n",
    "\n",
    "df_segments_to_be_included = df_percent_missing.drop(df_percent_missing[df_percent_missing['percentage_has_data_missing'] > 0.1].index)  # Select participants for inclusion in training set\n",
    "segments_to_be_included = list(df_segments_to_be_included.index)"
   ]
  },
  {
   "cell_type": "markdown",
   "id": "66f633ad",
   "metadata": {},
   "source": [
    "### Assign all good quality HCs to training for now, assign other groups to testing"
   ]
  },
  {
   "cell_type": "code",
   "execution_count": 4,
   "id": "9127f236",
   "metadata": {
    "scrolled": true
   },
   "outputs": [],
   "source": [
    "df['Testing1_Training0'] = 1\n",
    "df.loc[df['ID'].isin(segments_to_be_included), 'Testing1_Training0'] = 0"
   ]
  },
  {
   "cell_type": "markdown",
   "id": "de77676c",
   "metadata": {},
   "source": [
    "### Withhold some good quality HCs for testing"
   ]
  },
  {
   "cell_type": "code",
   "execution_count": 5,
   "id": "93357557",
   "metadata": {},
   "outputs": [],
   "source": [
    "random.seed(14)\n",
    "move_HC_to_testing = random.sample(segments_to_be_included,15)\n",
    "df.loc[df['ID'].isin(move_HC_to_testing), 'Testing1_Training0'] = 1"
   ]
  },
  {
   "cell_type": "code",
   "execution_count": 6,
   "id": "21cb48aa",
   "metadata": {},
   "outputs": [],
   "source": [
    "df.to_csv('/directory/file_name.csv', index=False)"
   ]
  }
 ],
 "metadata": {
  "kernelspec": {
   "display_name": "Python 3 (ipykernel)",
   "language": "python",
   "name": "python3"
  },
  "language_info": {
   "codemirror_mode": {
    "name": "ipython",
    "version": 3
   },
   "file_extension": ".py",
   "mimetype": "text/x-python",
   "name": "python",
   "nbconvert_exporter": "python",
   "pygments_lexer": "ipython3",
   "version": "3.8.13"
  }
 },
 "nbformat": 4,
 "nbformat_minor": 5
}
